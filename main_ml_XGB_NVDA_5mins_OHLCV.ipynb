{
 "cells": [
  {
   "cell_type": "code",
   "execution_count": 30,
   "metadata": {},
   "outputs": [],
   "source": [
    "# Imports\n",
    "import warnings\n",
    "warnings.filterwarnings('ignore')\n",
    "\n",
    "import os\n",
    "import time\n",
    "import numpy as np\n",
    "import pandas as pd\n",
    "from pandas.tseries.offsets import DateOffset\n",
    "import seaborn as sns\n",
    "sns.set(color_codes=True)\n",
    "from pathlib import Path\n",
    "import matplotlib.pyplot as plt\n",
    "import hvplot.pandas\n",
    "\n",
    "import yfinance as yf\n",
    "\n",
    "import pandas_ta as ta\n",
    "from fastai.tabular.all import add_datepart\n",
    "\n",
    "import datetime\n",
    "from dateutil.relativedelta import relativedelta\n",
    "\n",
    "import xgboost as xgb\n",
    "\n",
    "from sklearn.preprocessing import StandardScaler\n",
    "from sklearn.metrics import classification_report\n",
    "from imblearn.over_sampling import RandomOverSampler\n",
    "from sklearn.model_selection import train_test_split, GridSearchCV, KFold\n",
    "from sklearn.metrics import mean_absolute_error\n",
    "import joblib\n",
    "\n",
    "\n",
    "import trade\n"
   ]
  },
  {
   "cell_type": "markdown",
   "metadata": {},
   "source": [
    "## Initializations"
   ]
  },
  {
   "cell_type": "code",
   "execution_count": 31,
   "metadata": {},
   "outputs": [],
   "source": [
    "ticker = 'NVDA'\n",
    "\n",
    "period = '30d'\n",
    "interval = '5m'\n",
    "\n",
    "filepath_scaler= ('./Resources/' + ticker + '_xgb_5mins_scaler.sav')\n",
    "filepath_model= ('./Resources/' + ticker + '_xgb_5mins_model.sav')\n",
    "outfile = ('./Resources/' + str(ticker) +'_out.csv') # output data for review\n",
    "\n",
    "share_size = 10\n",
    "initial_capital = 5000"
   ]
  },
  {
   "cell_type": "markdown",
   "metadata": {},
   "source": [
    "___\n",
    "## Get live data"
   ]
  },
  {
   "cell_type": "code",
   "execution_count": 32,
   "metadata": {},
   "outputs": [
    {
     "name": "stdout",
     "output_type": "stream",
     "text": [
      "[*********************100%***********************]  1 of 1 completed\n"
     ]
    },
    {
     "data": {
      "text/html": [
       "<div>\n",
       "<style scoped>\n",
       "    .dataframe tbody tr th:only-of-type {\n",
       "        vertical-align: middle;\n",
       "    }\n",
       "\n",
       "    .dataframe tbody tr th {\n",
       "        vertical-align: top;\n",
       "    }\n",
       "\n",
       "    .dataframe thead th {\n",
       "        text-align: right;\n",
       "    }\n",
       "</style>\n",
       "<table border=\"1\" class=\"dataframe\">\n",
       "  <thead>\n",
       "    <tr style=\"text-align: right;\">\n",
       "      <th></th>\n",
       "      <th>Open</th>\n",
       "      <th>High</th>\n",
       "      <th>Low</th>\n",
       "      <th>Close</th>\n",
       "      <th>Volume</th>\n",
       "    </tr>\n",
       "    <tr>\n",
       "      <th>Datetime</th>\n",
       "      <th></th>\n",
       "      <th></th>\n",
       "      <th></th>\n",
       "      <th></th>\n",
       "      <th></th>\n",
       "    </tr>\n",
       "  </thead>\n",
       "  <tbody>\n",
       "    <tr>\n",
       "      <th>2022-08-26 09:30:00-04:00</th>\n",
       "      <td>178.570007</td>\n",
       "      <td>179.130005</td>\n",
       "      <td>177.770004</td>\n",
       "      <td>178.690002</td>\n",
       "      <td>2470662</td>\n",
       "    </tr>\n",
       "    <tr>\n",
       "      <th>2022-08-26 09:35:00-04:00</th>\n",
       "      <td>178.664993</td>\n",
       "      <td>178.664993</td>\n",
       "      <td>176.160004</td>\n",
       "      <td>176.884995</td>\n",
       "      <td>1492785</td>\n",
       "    </tr>\n",
       "    <tr>\n",
       "      <th>2022-08-26 09:40:00-04:00</th>\n",
       "      <td>176.889999</td>\n",
       "      <td>177.649994</td>\n",
       "      <td>176.240005</td>\n",
       "      <td>176.289993</td>\n",
       "      <td>1095523</td>\n",
       "    </tr>\n",
       "    <tr>\n",
       "      <th>2022-08-26 09:45:00-04:00</th>\n",
       "      <td>176.294998</td>\n",
       "      <td>176.309998</td>\n",
       "      <td>175.119995</td>\n",
       "      <td>175.274994</td>\n",
       "      <td>1521984</td>\n",
       "    </tr>\n",
       "    <tr>\n",
       "      <th>2022-08-26 09:50:00-04:00</th>\n",
       "      <td>175.301605</td>\n",
       "      <td>176.270004</td>\n",
       "      <td>175.009995</td>\n",
       "      <td>176.070007</td>\n",
       "      <td>1362449</td>\n",
       "    </tr>\n",
       "    <tr>\n",
       "      <th>...</th>\n",
       "      <td>...</td>\n",
       "      <td>...</td>\n",
       "      <td>...</td>\n",
       "      <td>...</td>\n",
       "      <td>...</td>\n",
       "    </tr>\n",
       "    <tr>\n",
       "      <th>2022-10-07 15:40:00-04:00</th>\n",
       "      <td>120.769997</td>\n",
       "      <td>120.910004</td>\n",
       "      <td>120.540001</td>\n",
       "      <td>120.750000</td>\n",
       "      <td>994212</td>\n",
       "    </tr>\n",
       "    <tr>\n",
       "      <th>2022-10-07 15:45:00-04:00</th>\n",
       "      <td>120.739998</td>\n",
       "      <td>120.750000</td>\n",
       "      <td>120.419998</td>\n",
       "      <td>120.544998</td>\n",
       "      <td>1081331</td>\n",
       "    </tr>\n",
       "    <tr>\n",
       "      <th>2022-10-07 15:50:00-04:00</th>\n",
       "      <td>120.540001</td>\n",
       "      <td>121.099998</td>\n",
       "      <td>120.279999</td>\n",
       "      <td>120.465698</td>\n",
       "      <td>1578137</td>\n",
       "    </tr>\n",
       "    <tr>\n",
       "      <th>2022-10-07 15:55:00-04:00</th>\n",
       "      <td>120.470001</td>\n",
       "      <td>120.989998</td>\n",
       "      <td>120.400002</td>\n",
       "      <td>120.779999</td>\n",
       "      <td>2392195</td>\n",
       "    </tr>\n",
       "    <tr>\n",
       "      <th>2022-10-07 16:00:00-04:00</th>\n",
       "      <td>120.760002</td>\n",
       "      <td>120.760002</td>\n",
       "      <td>120.760002</td>\n",
       "      <td>120.760002</td>\n",
       "      <td>0</td>\n",
       "    </tr>\n",
       "  </tbody>\n",
       "</table>\n",
       "<p>2341 rows × 5 columns</p>\n",
       "</div>"
      ],
      "text/plain": [
       "                                 Open        High         Low       Close  \\\n",
       "Datetime                                                                    \n",
       "2022-08-26 09:30:00-04:00  178.570007  179.130005  177.770004  178.690002   \n",
       "2022-08-26 09:35:00-04:00  178.664993  178.664993  176.160004  176.884995   \n",
       "2022-08-26 09:40:00-04:00  176.889999  177.649994  176.240005  176.289993   \n",
       "2022-08-26 09:45:00-04:00  176.294998  176.309998  175.119995  175.274994   \n",
       "2022-08-26 09:50:00-04:00  175.301605  176.270004  175.009995  176.070007   \n",
       "...                               ...         ...         ...         ...   \n",
       "2022-10-07 15:40:00-04:00  120.769997  120.910004  120.540001  120.750000   \n",
       "2022-10-07 15:45:00-04:00  120.739998  120.750000  120.419998  120.544998   \n",
       "2022-10-07 15:50:00-04:00  120.540001  121.099998  120.279999  120.465698   \n",
       "2022-10-07 15:55:00-04:00  120.470001  120.989998  120.400002  120.779999   \n",
       "2022-10-07 16:00:00-04:00  120.760002  120.760002  120.760002  120.760002   \n",
       "\n",
       "                            Volume  \n",
       "Datetime                            \n",
       "2022-08-26 09:30:00-04:00  2470662  \n",
       "2022-08-26 09:35:00-04:00  1492785  \n",
       "2022-08-26 09:40:00-04:00  1095523  \n",
       "2022-08-26 09:45:00-04:00  1521984  \n",
       "2022-08-26 09:50:00-04:00  1362449  \n",
       "...                            ...  \n",
       "2022-10-07 15:40:00-04:00   994212  \n",
       "2022-10-07 15:45:00-04:00  1081331  \n",
       "2022-10-07 15:50:00-04:00  1578137  \n",
       "2022-10-07 15:55:00-04:00  2392195  \n",
       "2022-10-07 16:00:00-04:00        0  \n",
       "\n",
       "[2341 rows x 5 columns]"
      ]
     },
     "execution_count": 32,
     "metadata": {},
     "output_type": "execute_result"
    }
   ],
   "source": [
    "# Get live stock data\n",
    "stock_df = yf.download(ticker, period=period, interval=interval)\n",
    "stock_df.drop(columns=['Adj Close'], axis=1, inplace=True)\n",
    "stock_df"
   ]
  },
  {
   "cell_type": "code",
   "execution_count": 33,
   "metadata": {},
   "outputs": [
    {
     "data": {
      "text/plain": [
       "<AxesSubplot:xlabel='Datetime'>"
      ]
     },
     "execution_count": 33,
     "metadata": {},
     "output_type": "execute_result"
    },
    {
     "data": {
      "image/png": "[encoded data removed]",
      "text/plain": [
       "<Figure size 640x480 with 1 Axes>"
      ]
     },
     "metadata": {},
     "output_type": "display_data"
    }
   ],
   "source": [
    "#Plot the True Adj Close Value\n",
    "stock_df['Close'].plot()"
   ]
  },
  {
   "cell_type": "code",
   "execution_count": 34,
   "metadata": {},
   "outputs": [],
   "source": [
    "df = stock_df.copy()     # reload copy of df here instead of downloading"
   ]
  },
  {
   "cell_type": "markdown",
   "metadata": {},
   "source": [
    "---\n",
    "## Data Preparation"
   ]
  },
  {
   "cell_type": "markdown",
   "metadata": {},
   "source": [
    "#### Generate trading signal based on price momentum"
   ]
  },
  {
   "cell_type": "code",
   "execution_count": 35,
   "metadata": {},
   "outputs": [],
   "source": [
    "# Add percentage change actual returns column\n",
    "df['Actual Returns'] = df['Close'].pct_change()\n",
    "df = df.dropna()"
   ]
  },
  {
   "cell_type": "code",
   "execution_count": 36,
   "metadata": {},
   "outputs": [
    {
     "data": {
      "text/html": [
       "<div>\n",
       "<style scoped>\n",
       "    .dataframe tbody tr th:only-of-type {\n",
       "        vertical-align: middle;\n",
       "    }\n",
       "\n",
       "    .dataframe tbody tr th {\n",
       "        vertical-align: top;\n",
       "    }\n",
       "\n",
       "    .dataframe thead th {\n",
       "        text-align: right;\n",
       "    }\n",
       "</style>\n",
       "<table border=\"1\" class=\"dataframe\">\n",
       "  <thead>\n",
       "    <tr style=\"text-align: right;\">\n",
       "      <th></th>\n",
       "      <th>Open</th>\n",
       "      <th>High</th>\n",
       "      <th>Low</th>\n",
       "      <th>Close</th>\n",
       "      <th>Volume</th>\n",
       "      <th>Actual Returns</th>\n",
       "      <th>Signal</th>\n",
       "      <th>Entry/Exit</th>\n",
       "    </tr>\n",
       "    <tr>\n",
       "      <th>Datetime</th>\n",
       "      <th></th>\n",
       "      <th></th>\n",
       "      <th></th>\n",
       "      <th></th>\n",
       "      <th></th>\n",
       "      <th></th>\n",
       "      <th></th>\n",
       "      <th></th>\n",
       "    </tr>\n",
       "  </thead>\n",
       "  <tbody>\n",
       "    <tr>\n",
       "      <th>2022-08-26 09:40:00-04:00</th>\n",
       "      <td>176.889999</td>\n",
       "      <td>177.649994</td>\n",
       "      <td>176.240005</td>\n",
       "      <td>176.289993</td>\n",
       "      <td>1095523</td>\n",
       "      <td>-0.003364</td>\n",
       "      <td>0.0</td>\n",
       "      <td>0.0</td>\n",
       "    </tr>\n",
       "    <tr>\n",
       "      <th>2022-08-26 09:45:00-04:00</th>\n",
       "      <td>176.294998</td>\n",
       "      <td>176.309998</td>\n",
       "      <td>175.119995</td>\n",
       "      <td>175.274994</td>\n",
       "      <td>1521984</td>\n",
       "      <td>-0.005758</td>\n",
       "      <td>0.0</td>\n",
       "      <td>0.0</td>\n",
       "    </tr>\n",
       "    <tr>\n",
       "      <th>2022-08-26 09:50:00-04:00</th>\n",
       "      <td>175.301605</td>\n",
       "      <td>176.270004</td>\n",
       "      <td>175.009995</td>\n",
       "      <td>176.070007</td>\n",
       "      <td>1362449</td>\n",
       "      <td>0.004536</td>\n",
       "      <td>1.0</td>\n",
       "      <td>1.0</td>\n",
       "    </tr>\n",
       "    <tr>\n",
       "      <th>2022-08-26 09:55:00-04:00</th>\n",
       "      <td>176.125000</td>\n",
       "      <td>177.379898</td>\n",
       "      <td>176.097305</td>\n",
       "      <td>176.994995</td>\n",
       "      <td>1235215</td>\n",
       "      <td>0.005254</td>\n",
       "      <td>1.0</td>\n",
       "      <td>0.0</td>\n",
       "    </tr>\n",
       "    <tr>\n",
       "      <th>2022-08-26 10:00:00-04:00</th>\n",
       "      <td>176.949997</td>\n",
       "      <td>177.104996</td>\n",
       "      <td>174.100006</td>\n",
       "      <td>174.199997</td>\n",
       "      <td>1929217</td>\n",
       "      <td>-0.015791</td>\n",
       "      <td>0.0</td>\n",
       "      <td>-1.0</td>\n",
       "    </tr>\n",
       "  </tbody>\n",
       "</table>\n",
       "</div>"
      ],
      "text/plain": [
       "                                 Open        High         Low       Close  \\\n",
       "Datetime                                                                    \n",
       "2022-08-26 09:40:00-04:00  176.889999  177.649994  176.240005  176.289993   \n",
       "2022-08-26 09:45:00-04:00  176.294998  176.309998  175.119995  175.274994   \n",
       "2022-08-26 09:50:00-04:00  175.301605  176.270004  175.009995  176.070007   \n",
       "2022-08-26 09:55:00-04:00  176.125000  177.379898  176.097305  176.994995   \n",
       "2022-08-26 10:00:00-04:00  176.949997  177.104996  174.100006  174.199997   \n",
       "\n",
       "                            Volume  Actual Returns  Signal  Entry/Exit  \n",
       "Datetime                                                                \n",
       "2022-08-26 09:40:00-04:00  1095523       -0.003364     0.0         0.0  \n",
       "2022-08-26 09:45:00-04:00  1521984       -0.005758     0.0         0.0  \n",
       "2022-08-26 09:50:00-04:00  1362449        0.004536     1.0         1.0  \n",
       "2022-08-26 09:55:00-04:00  1235215        0.005254     1.0         0.0  \n",
       "2022-08-26 10:00:00-04:00  1929217       -0.015791     0.0        -1.0  "
      ]
     },
     "execution_count": 36,
     "metadata": {},
     "output_type": "execute_result"
    }
   ],
   "source": [
    "# Generate buy/sell signal\n",
    "df['Signal'] = 0.0\n",
    "# Generate signal to buy stock\n",
    "df.loc[(df['Actual Returns'] >= 0), 'Signal'] = 1\n",
    "# Generate signal to sell stock\n",
    "df.loc[(df['Actual Returns'] < 0), 'Signal'] = 0\n",
    "\n",
    "# Calculate the points in time when the Signal value changes\n",
    "# Identify trade entry (1) and exit (-1) points\n",
    "df['Entry/Exit'] = df['Signal'].diff()\n",
    "df = df.dropna()\n",
    "\n",
    "df.head()"
   ]
  },
  {
   "cell_type": "markdown",
   "metadata": {},
   "source": []
  },
  {
   "cell_type": "code",
   "execution_count": 37,
   "metadata": {},
   "outputs": [
    {
     "data": {
      "text/plain": [
       " 0.0    1223\n",
       " 1.0     558\n",
       "-1.0     558\n",
       "Name: Entry/Exit, dtype: int64"
      ]
     },
     "execution_count": 37,
     "metadata": {},
     "output_type": "execute_result"
    }
   ],
   "source": [
    "df['Entry/Exit'].value_counts()\n"
   ]
  },
  {
   "cell_type": "code",
   "execution_count": 38,
   "metadata": {},
   "outputs": [
    {
     "data": {},
     "metadata": {},
     "output_type": "display_data"
    },
    {
     "data": {
      "application/vnd.holoviews_exec.v0+json": "",
      "text/html": [
       "<div id='1230'>\n",
       "  <div class=\"bk-root\" id=\"87b53626-24f9-4211-8e11-554b530d412e\" data-root-id=\"1230\"></div>\n",
       "</div>\n",
       "<script type=\"application/javascript\">(function(root) {\n",
       "  function embed_document(root) {\n",
       "    var docs_json = {\"146b26bd-8540-4d3f-9bb6-8dedd6a7d56a\":{\"defs\":[{\"extends\":null,\"module\":null,\"name\":\"ReactiveHTML1\",\"overrides\":[],\"properties\":[]},{\"extends\":null,\"module\":null,\"name\":\"FlexBox1\",\"overrides\":[],\"properties\":[{\"default\":\"flex-start\",\"kind\":null,\"name\":\"align_content\"},{\"default\":\"flex-start\",\"kind\":null,\"name\":\"align_items\"},{\"default\":\"row\",\"kind\":null,\"name\":\"flex_direction\"},{\"default\":\"wrap\",\"kind\":null,\"name\":\"flex_wrap\"},{\"default\":\"flex-start\",\"kind\":null,\"name\":\"justify_content\"}]},{\"extends\":null,\"module\":null,\"name\":\"GridStack1\",\"overrides\":[],\"properties\":[{\"default\":\"warn\",\"kind\":null,\"name\":\"mode\"},{\"default\":null,\"kind\":null,\"name\":\"ncols\"},{\"default\":null,\"kind\":null,\"name\":\"nrows\"},{\"default\":true,\"kind\":null,\"name\":\"allow_resize\"},{\"default\":true,\"kind\":null,\"name\":\"allow_drag\"},{\"default\":[],\"kind\":null,\"name\":\"state\"}]},{\"extends\":null,\"module\":null,\"name\":\"click1\",\"overrides\":[],\"properties\":[{\"default\":\"\",\"kind\":null,\"name\":\"terminal_output\"},{\"default\":\"\",\"kind\":null,\"name\":\"debug_name\"},{\"default\":0,\"kind\":null,\"name\":\"clears\"}]},{\"extends\":null,\"module\":null,\"name\":\"NotificationAreaBase1\",\"overrides\":[],\"properties\":[{\"default\":\"bottom-right\",\"kind\":null,\"name\":\"position\"},{\"default\":0,\"kind\":null,\"name\":\"_clear\"}]},{\"extends\":null,\"module\":null,\"name\":\"NotificationArea1\",\"overrides\":[],\"properties\":[{\"default\":[],\"kind\":null,\"name\":\"notifications\"},{\"default\":\"bottom-right\",\"kind\":null,\"name\":\"position\"},{\"default\":0,\"kind\":null,\"name\":\"_clear\"},{\"default\":[{\"background\":\"#ffc107\",\"icon\":{\"className\":\"fas fa-exclamation-triangle\",\"color\":\"white\",\"tagName\":\"i\"},\"type\":\"warning\"},{\"background\":\"#007bff\",\"icon\":{\"className\":\"fas fa-info-circle\",\"color\":\"white\",\"tagName\":\"i\"},\"type\":\"info\"}],\"kind\":null,\"name\":\"types\"}]},{\"extends\":null,\"module\":null,\"name\":\"Notification\",\"overrides\":[],\"properties\":[{\"default\":null,\"kind\":null,\"name\":\"background\"},{\"default\":3000,\"kind\":null,\"name\":\"duration\"},{\"default\":null,\"kind\":null,\"name\":\"icon\"},{\"default\":\"\",\"kind\":null,\"name\":\"message\"},{\"default\":null,\"kind\":null,\"name\":\"notification_type\"},{\"default\":false,\"kind\":null,\"name\":\"_destroyed\"}]},{\"extends\":null,\"module\":null,\"name\":\"TemplateActions1\",\"overrides\":[],\"properties\":[{\"default\":0,\"kind\":null,\"name\":\"open_modal\"},{\"default\":0,\"kind\":null,\"name\":\"close_modal\"}]},{\"extends\":null,\"module\":null,\"name\":\"MaterialTemplateActions1\",\"overrides\":[],\"properties\":[{\"default\":0,\"kind\":null,\"name\":\"open_modal\"},{\"default\":0,\"kind\":null,\"name\":\"close_modal\"}]}],\"roots\":{\"references\":[{\"attributes\":{\"data\":{\"Close\":{\"__ndarray__\":\"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\",\"dtype\":\"float64\",\"order\":\"little\",\"shape\":[558]},\"Datetime\":{\"__ndarray__\":\"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\",\"dtype\":\"float64\",\"order\":\"little\",\"shape\":[558]}},\"selected\":{\"id\":\"1283\"},\"selection_policy\":{\"id\":\"1309\"}},\"id\":\"1282\",\"type\":\"ColumnDataSource\"},{\"attributes\":{\"line_alpha\":0.1,\"line_color\":\"lightgray\",\"line_width\":2,\"x\":{\"field\":\"Datetime\"},\"y\":{\"field\":\"Close\"}},\"id\":\"1277\",\"type\":\"Line\"},{\"attributes\":{\"angle\":{\"value\":0},\"fill_alpha\":{\"value\":1.0},\"fill_color\":{\"value\":\"purple\"},\"hatch_alpha\":{\"value\":1.0},\"hatch_color\":{\"value\":\"purple\"},\"hatch_scale\":{\"value\":12.0},\"hatch_weight\":{\"value\":1.0},\"line_alpha\":{\"value\":1.0},\"line_cap\":{\"value\":\"butt\"},\"line_color\":{\"value\":\"purple\"},\"line_dash\":{\"value\":[]},\"line_dash_offset\":{\"value\":0},\"line_join\":{\"value\":\"bevel\"},\"line_width\":{\"value\":1},\"marker\":{\"value\":\"triangle\"},\"size\":{\"value\":14.142135623730951},\"x\":{\"field\":\"Datetime\"},\"y\":{\"field\":\"Close\"}},\"id\":\"1290\",\"type\":\"Scatter\"},{\"attributes\":{\"coordinates\":null,\"data_source\":{\"id\":\"1273\"},\"glyph\":{\"id\":\"1276\"},\"group\":null,\"hover_glyph\":null,\"muted_glyph\":{\"id\":\"1278\"},\"nonselection_glyph\":{\"id\":\"1277\"},\"selection_glyph\":{\"id\":\"1281\"},\"view\":{\"id\":\"1280\"}},\"id\":\"1279\",\"type\":\"GlyphRenderer\"},{\"attributes\":{\"fill_color\":{\"value\":\"purple\"},\"hatch_color\":{\"value\":\"purple\"},\"line_color\":{\"value\":\"purple\"},\"marker\":{\"value\":\"triangle\"},\"size\":{\"value\":14.142135623730951},\"x\":{\"field\":\"Datetime\"},\"y\":{\"field\":\"Close\"}},\"id\":\"1285\",\"type\":\"Scatter\"},{\"attributes\":{\"fill_alpha\":{\"value\":0.1},\"fill_color\":{\"value\":\"purple\"},\"hatch_alpha\":{\"value\":0.1},\"hatch_color\":{\"value\":\"purple\"},\"line_alpha\":{\"value\":0.1},\"line_color\":{\"value\":\"purple\"},\"marker\":{\"value\":\"triangle\"},\"size\":{\"value\":14.142135623730951},\"x\":{\"field\":\"Datetime\"},\"y\":{\"field\":\"Close\"}},\"id\":\"1286\",\"type\":\"Scatter\"},{\"attributes\":{\"coordinates\":null,\"data_source\":{\"id\":\"1282\"},\"glyph\":{\"id\":\"1285\"},\"group\":null,\"hover_glyph\":null,\"muted_glyph\":{\"id\":\"1287\"},\"nonselection_glyph\":{\"id\":\"1286\"},\"selection_glyph\":{\"id\":\"1290\"},\"view\":{\"id\":\"1289\"}},\"id\":\"1288\",\"type\":\"GlyphRenderer\"},{\"attributes\":{\"months\":[0,4,8]},\"id\":\"1323\",\"type\":\"MonthsTicker\"},{\"attributes\":{\"fill_alpha\":{\"value\":0.2},\"fill_color\":{\"value\":\"purple\"},\"hatch_alpha\":{\"value\":0.2},\"hatch_color\":{\"value\":\"purple\"},\"line_alpha\":{\"value\":0.2},\"line_color\":{\"value\":\"purple\"},\"marker\":{\"value\":\"triangle\"},\"size\":{\"value\":14.142135623730951},\"x\":{\"field\":\"Datetime\"},\"y\":{\"field\":\"Close\"}},\"id\":\"1287\",\"type\":\"Scatter\"},{\"attributes\":{\"line_color\":\"lightgray\",\"line_width\":2,\"x\":{\"field\":\"Datetime\"},\"y\":{\"field\":\"Close\"}},\"id\":\"1276\",\"type\":\"Line\"},{\"attributes\":{\"months\":[0,2,4,6,8,10]},\"id\":\"1322\",\"type\":\"MonthsTicker\"},{\"attributes\":{\"source\":{\"id\":\"1282\"}},\"id\":\"1289\",\"type\":\"CDSView\"},{\"attributes\":{\"months\":[0,6]},\"id\":\"1324\",\"type\":\"MonthsTicker\"},{\"attributes\":{\"days\":[1,15]},\"id\":\"1320\",\"type\":\"DaysTicker\"},{\"attributes\":{\"data\":{\"Close\":{\"__ndarray__\":\"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\",\"dtype\":\"float64\",\"order\":\"little\",\"shape\":[2339]},\"Datetime\":{\"__ndarray__\":\"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\",\"dtype\":\"float64\",\"order\":\"little\",\"shape\":[2339]}},\"selected\":{\"id\":\"1274\"},\"selection_policy\":{\"id\":\"1307\"}},\"id\":\"1273\",\"type\":\"ColumnDataSource\"},{\"attributes\":{\"days\":[1,4,7,10,13,16,19,22,25,28]},\"id\":\"1318\",\"type\":\"DaysTicker\"},{\"attributes\":{\"days\":[1,2,3,4,5,6,7,8,9,10,11,12,13,14,15,16,17,18,19,20,21,22,23,24,25,26,27,28,29,30,31]},\"id\":\"1317\",\"type\":\"DaysTicker\"},{\"attributes\":{},\"id\":\"1242\",\"type\":\"LinearScale\"},{\"attributes\":{\"base\":24,\"mantissas\":[1,2,4,6,8,12],\"max_interval\":43200000.0,\"min_interval\":3600000.0,\"num_minor_ticks\":0},\"id\":\"1316\",\"type\":\"AdaptiveTicker\"},{\"attributes\":{},\"id\":\"1325\",\"type\":\"YearsTicker\"},{\"attributes\":{\"days\":[1,8,15,22]},\"id\":\"1319\",\"type\":\"DaysTicker\"},{\"attributes\":{\"months\":[0,1,2,3,4,5,6,7,8,9,10,11]},\"id\":\"1321\",\"type\":\"MonthsTicker\"},{\"attributes\":{\"coordinates\":null,\"group\":null,\"text\":\"NVDA: Entry and Exit Points\",\"text_color\":\"black\",\"text_font_size\":\"12pt\"},\"id\":\"1238\",\"type\":\"Title\"},{\"attributes\":{\"base\":60,\"mantissas\":[1,2,5,10,15,20,30],\"max_interval\":1800000.0,\"min_interval\":1000.0,\"num_minor_ticks\":0},\"id\":\"1315\",\"type\":\"AdaptiveTicker\"},{\"attributes\":{\"callback\":null,\"formatters\":{\"@{Datetime}\":\"datetime\"},\"renderers\":[{\"id\":\"1279\"},{\"id\":\"1288\"},{\"id\":\"1297\"}],\"tags\":[\"hv_created\"],\"tooltips\":[[\"Datetime\",\"@{Datetime}{%F %T}\"],[\"Close\",\"@{Close}\"]]},\"id\":\"1234\",\"type\":\"HoverTool\"},{\"attributes\":{\"mantissas\":[1,2,5],\"max_interval\":500.0,\"num_minor_ticks\":0},\"id\":\"1314\",\"type\":\"AdaptiveTicker\"},{\"attributes\":{\"end\":1665158400000.0,\"reset_end\":1665158400000.0,\"reset_start\":1661506800000.0,\"start\":1661506800000.0,\"tags\":[[[\"Datetime\",\"Datetime\",null]]]},\"id\":\"1232\",\"type\":\"Range1d\"},{\"attributes\":{\"end\":184.54049377441407,\"reset_end\":184.54049377441407,\"reset_start\":113.67450256347657,\"start\":113.67450256347657,\"tags\":[[[\"Close\",\"Close\",null]]]},\"id\":\"1233\",\"type\":\"Range1d\"},{\"attributes\":{\"angle\":{\"value\":3.141592653589793},\"fill_alpha\":{\"value\":0.1},\"fill_color\":{\"value\":\"yellow\"},\"hatch_alpha\":{\"value\":0.1},\"hatch_color\":{\"value\":\"yellow\"},\"line_alpha\":{\"value\":0.1},\"line_color\":{\"value\":\"yellow\"},\"marker\":{\"value\":\"triangle\"},\"size\":{\"value\":14.142135623730951},\"x\":{\"field\":\"Datetime\"},\"y\":{\"field\":\"Close\"}},\"id\":\"1295\",\"type\":\"Scatter\"},{\"attributes\":{\"below\":[{\"id\":\"1246\"}],\"center\":[{\"id\":\"1249\"},{\"id\":\"1253\"}],\"height\":400,\"left\":[{\"id\":\"1250\"}],\"margin\":[5,5,5,5],\"min_border_bottom\":10,\"min_border_left\":10,\"min_border_right\":10,\"min_border_top\":10,\"renderers\":[{\"id\":\"1279\"},{\"id\":\"1288\"},{\"id\":\"1297\"}],\"sizing_mode\":\"fixed\",\"title\":{\"id\":\"1238\"},\"toolbar\":{\"id\":\"1260\"},\"width\":1000,\"x_range\":{\"id\":\"1232\"},\"x_scale\":{\"id\":\"1242\"},\"y_range\":{\"id\":\"1233\"},\"y_scale\":{\"id\":\"1244\"}},\"id\":\"1237\",\"subtype\":\"Figure\",\"type\":\"Plot\"},{\"attributes\":{},\"id\":\"1244\",\"type\":\"LinearScale\"},{\"attributes\":{},\"id\":\"1255\",\"type\":\"PanTool\"},{\"attributes\":{\"angle\":{\"value\":3.141592653589793},\"fill_alpha\":{\"value\":0.2},\"fill_color\":{\"value\":\"yellow\"},\"hatch_alpha\":{\"value\":0.2},\"hatch_color\":{\"value\":\"yellow\"},\"line_alpha\":{\"value\":0.2},\"line_color\":{\"value\":\"yellow\"},\"marker\":{\"value\":\"triangle\"},\"size\":{\"value\":14.142135623730951},\"x\":{\"field\":\"Datetime\"},\"y\":{\"field\":\"Close\"}},\"id\":\"1296\",\"type\":\"Scatter\"},{\"attributes\":{\"axis_label\":\"Datetime\",\"coordinates\":null,\"formatter\":{\"id\":\"1268\"},\"group\":null,\"major_label_policy\":{\"id\":\"1269\"},\"ticker\":{\"id\":\"1247\"}},\"id\":\"1246\",\"type\":\"DatetimeAxis\"},{\"attributes\":{\"axis_label\":\"Price in $\",\"coordinates\":null,\"formatter\":{\"id\":\"1271\"},\"group\":null,\"major_label_policy\":{\"id\":\"1272\"},\"ticker\":{\"id\":\"1251\"}},\"id\":\"1250\",\"type\":\"LinearAxis\"},{\"attributes\":{\"axis\":{\"id\":\"1246\"},\"coordinates\":null,\"grid_line_color\":null,\"group\":null,\"ticker\":null},\"id\":\"1249\",\"type\":\"Grid\"},{\"attributes\":{},\"id\":\"1311\",\"type\":\"UnionRenderers\"},{\"attributes\":{\"num_minor_ticks\":5,\"tickers\":[{\"id\":\"1314\"},{\"id\":\"1315\"},{\"id\":\"1316\"},{\"id\":\"1317\"},{\"id\":\"1318\"},{\"id\":\"1319\"},{\"id\":\"1320\"},{\"id\":\"1321\"},{\"id\":\"1322\"},{\"id\":\"1323\"},{\"id\":\"1324\"},{\"id\":\"1325\"}]},\"id\":\"1247\",\"type\":\"DatetimeTicker\"},{\"attributes\":{},\"id\":\"1269\",\"type\":\"AllLabels\"},{\"attributes\":{\"axis\":{\"id\":\"1250\"},\"coordinates\":null,\"dimension\":1,\"grid_line_color\":null,\"group\":null,\"ticker\":null},\"id\":\"1253\",\"type\":\"Grid\"},{\"attributes\":{},\"id\":\"1251\",\"type\":\"BasicTicker\"},{\"attributes\":{},\"id\":\"1256\",\"type\":\"WheelZoomTool\"},{\"attributes\":{\"margin\":[5,5,5,5],\"name\":\"HSpacer01455\",\"sizing_mode\":\"stretch_width\"},\"id\":\"1326\",\"type\":\"Spacer\"},{\"attributes\":{},\"id\":\"1254\",\"type\":\"SaveTool\"},{\"attributes\":{\"overlay\":{\"id\":\"1259\"}},\"id\":\"1257\",\"type\":\"BoxZoomTool\"},{\"attributes\":{},\"id\":\"1258\",\"type\":\"ResetTool\"},{\"attributes\":{\"coordinates\":null,\"data_source\":{\"id\":\"1291\"},\"glyph\":{\"id\":\"1294\"},\"group\":null,\"hover_glyph\":null,\"muted_glyph\":{\"id\":\"1296\"},\"nonselection_glyph\":{\"id\":\"1295\"},\"selection_glyph\":{\"id\":\"1299\"},\"view\":{\"id\":\"1298\"}},\"id\":\"1297\",\"type\":\"GlyphRenderer\"},{\"attributes\":{},\"id\":\"1309\",\"type\":\"UnionRenderers\"},{\"attributes\":{\"bottom_units\":\"screen\",\"coordinates\":null,\"fill_alpha\":0.5,\"fill_color\":\"lightgrey\",\"group\":null,\"left_units\":\"screen\",\"level\":\"overlay\",\"line_alpha\":1.0,\"line_color\":\"black\",\"line_dash\":[4,4],\"line_width\":2,\"right_units\":\"screen\",\"syncable\":false,\"top_units\":\"screen\"},\"id\":\"1259\",\"type\":\"BoxAnnotation\"},{\"attributes\":{},\"id\":\"1268\",\"type\":\"DatetimeTickFormatter\"},{\"attributes\":{},\"id\":\"1292\",\"type\":\"Selection\"},{\"attributes\":{\"angle\":{\"value\":3.141592653589793},\"fill_alpha\":{\"value\":1.0},\"fill_color\":{\"value\":\"yellow\"},\"hatch_alpha\":{\"value\":1.0},\"hatch_color\":{\"value\":\"yellow\"},\"hatch_scale\":{\"value\":12.0},\"hatch_weight\":{\"value\":1.0},\"line_alpha\":{\"value\":1.0},\"line_cap\":{\"value\":\"butt\"},\"line_color\":{\"value\":\"yellow\"},\"line_dash\":{\"value\":[]},\"line_dash_offset\":{\"value\":0},\"line_join\":{\"value\":\"bevel\"},\"line_width\":{\"value\":1},\"marker\":{\"value\":\"triangle\"},\"size\":{\"value\":14.142135623730951},\"x\":{\"field\":\"Datetime\"},\"y\":{\"field\":\"Close\"}},\"id\":\"1299\",\"type\":\"Scatter\"},{\"attributes\":{\"source\":{\"id\":\"1291\"}},\"id\":\"1298\",\"type\":\"CDSView\"},{\"attributes\":{\"tools\":[{\"id\":\"1234\"},{\"id\":\"1254\"},{\"id\":\"1255\"},{\"id\":\"1256\"},{\"id\":\"1257\"},{\"id\":\"1258\"}]},\"id\":\"1260\",\"type\":\"Toolbar\"},{\"attributes\":{},\"id\":\"1271\",\"type\":\"BasicTickFormatter\"},{\"attributes\":{\"data\":{\"Close\":{\"__ndarray__\":\"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\",\"dtype\":\"float64\",\"order\":\"little\",\"shape\":[558]},\"Datetime\":{\"__ndarray__\":\"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\",\"dtype\":\"float64\",\"order\":\"little\",\"shape\":[558]}},\"selected\":{\"id\":\"1292\"},\"selection_policy\":{\"id\":\"1311\"}},\"id\":\"1291\",\"type\":\"ColumnDataSource\"},{\"attributes\":{},\"id\":\"1272\",\"type\":\"AllLabels\"},{\"attributes\":{\"angle\":{\"value\":3.141592653589793},\"fill_color\":{\"value\":\"yellow\"},\"hatch_color\":{\"value\":\"yellow\"},\"line_color\":{\"value\":\"yellow\"},\"marker\":{\"value\":\"triangle\"},\"size\":{\"value\":14.142135623730951},\"x\":{\"field\":\"Datetime\"},\"y\":{\"field\":\"Close\"}},\"id\":\"1294\",\"type\":\"Scatter\"},{\"attributes\":{},\"id\":\"1307\",\"type\":\"UnionRenderers\"},{\"attributes\":{\"line_color\":\"lightgray\",\"line_width\":2,\"x\":{\"field\":\"Datetime\"},\"y\":{\"field\":\"Close\"}},\"id\":\"1281\",\"type\":\"Line\"},{\"attributes\":{\"margin\":[5,5,5,5],\"name\":\"HSpacer01454\",\"sizing_mode\":\"stretch_width\"},\"id\":\"1231\",\"type\":\"Spacer\"},{\"attributes\":{\"source\":{\"id\":\"1273\"}},\"id\":\"1280\",\"type\":\"CDSView\"},{\"attributes\":{\"line_alpha\":0.2,\"line_color\":\"lightgray\",\"line_width\":2,\"x\":{\"field\":\"Datetime\"},\"y\":{\"field\":\"Close\"}},\"id\":\"1278\",\"type\":\"Line\"},{\"attributes\":{},\"id\":\"1283\",\"type\":\"Selection\"},{\"attributes\":{},\"id\":\"1274\",\"type\":\"Selection\"},{\"attributes\":{\"children\":[{\"id\":\"1231\"},{\"id\":\"1237\"},{\"id\":\"1326\"}],\"margin\":[0,0,0,0],\"name\":\"Row01450\",\"tags\":[\"embedded\"]},\"id\":\"1230\",\"type\":\"Row\"}],\"root_ids\":[\"1230\"]},\"title\":\"Bokeh Application\",\"version\":\"2.4.3\"}};\n",
       "    var render_items = [{\"docid\":\"146b26bd-8540-4d3f-9bb6-8dedd6a7d56a\",\"root_ids\":[\"1230\"],\"roots\":{\"1230\":\"87b53626-24f9-4211-8e11-554b530d412e\"}}];\n",
       "    root.Bokeh.embed.embed_items_notebook(docs_json, render_items);\n",
       "  }\n",
       "  if (root.Bokeh !== undefined && root.Bokeh.Panel !== undefined) {\n",
       "    embed_document(root);\n",
       "  } else {\n",
       "    var attempts = 0;\n",
       "    var timer = setInterval(function(root) {\n",
       "      if (root.Bokeh !== undefined && root.Bokeh.Panel !== undefined) {\n",
       "        clearInterval(timer);\n",
       "        embed_document(root);\n",
       "      } else if (document.readyState == \"complete\") {\n",
       "        attempts++;\n",
       "        if (attempts > 200) {\n",
       "          clearInterval(timer);\n",
       "          console.log(\"Bokeh: ERROR: Unable to run BokehJS code because BokehJS library is missing\");\n",
       "        }\n",
       "      }\n",
       "    }, 25, root)\n",
       "  }\n",
       "})(window);</script>"
      ],
      "text/plain": [
       ":Overlay\n",
       "   .Curve.I          :Curve   [Datetime]   (Close)\n",
       "   .Scatter.Close.I  :Scatter   [Datetime]   (Close)\n",
       "   .Scatter.Close.II :Scatter   [Datetime]   (Close)"
      ]
     },
     "execution_count": 38,
     "metadata": {
      "application/vnd.holoviews_exec.v0+json": {
       "id": "1230"
      }
     },
     "output_type": "execute_result"
    }
   ],
   "source": [
    "# Visualize entry position relative to close price\n",
    "entry = df[df['Entry/Exit'] == 1.0]['Close'].hvplot.scatter(\n",
    "    color='purple',\n",
    "    marker='^',\n",
    "    size=200,\n",
    "    legend=False,\n",
    "    ylabel='Price in $',\n",
    "    width=1000,\n",
    "    height=400\n",
    ")\n",
    "\n",
    "# Visualize exit position relative to close price\n",
    "exit = df[df['Entry/Exit'] == -1.0]['Close'].hvplot.scatter(\n",
    "    color='yellow',\n",
    "    marker='v',\n",
    "    size=200,\n",
    "    legend=False,\n",
    "    ylabel='Price in $',\n",
    "    width=1000,\n",
    "    height=400\n",
    ")\n",
    "\n",
    "# Visualize close price for the investment\n",
    "security_close = df[['Close']].hvplot(\n",
    "    line_color='lightgray',\n",
    "    ylabel='Price in $',\n",
    "    width=1000,\n",
    "    height=400\n",
    ")\n",
    "\n",
    "# Create the overlay plot\n",
    "entry_exit_plot = security_close * entry * exit\n",
    "\n",
    "# Show the plot\n",
    "entry_exit_plot.opts(\n",
    "    title=(str(ticker) + ': Entry and Exit Points')\n",
    ")"
   ]
  },
  {
   "cell_type": "markdown",
   "metadata": {},
   "source": [
    "---\n",
    "## Backtest trading strategy without Machine Learning"
   ]
  },
  {
   "cell_type": "markdown",
   "metadata": {},
   "source": [
    "#### Execute trades (buy, hold, sell) and calculate P&L"
   ]
  },
  {
   "cell_type": "code",
   "execution_count": 39,
   "metadata": {},
   "outputs": [],
   "source": [
    "# Execute trades to calculate gain loss\n",
    "df, accumulated_shares = trade.gain_loss(df, share_size)"
   ]
  },
  {
   "cell_type": "code",
   "execution_count": 40,
   "metadata": {},
   "outputs": [
    {
     "name": "stdout",
     "output_type": "stream",
     "text": [
      "Accumulated shares = 0\n",
      "The initial investment made is $5,000.00\n",
      "The total profit/loss of the trading strategy is $-213.15\n",
      "The trading algorithm resulted in a return on investment of -4.26%\n"
     ]
    }
   ],
   "source": [
    "# Accumulated shares should show zero since all remaining shares have been sold at 'last' day of dataset\n",
    "print(\"Accumulated shares =\", accumulated_shares)\n",
    "print (f\"The initial investment made is ${initial_capital:,.2f}\" )\n",
    "\n",
    "# Calculate the total profit/loss for 100 share size orders\n",
    "total_profit_loss = df[\"cost/proceeds\"].sum()\n",
    "\n",
    "# Print the profit/loss metrics\n",
    "print(f\"The total profit/loss of the trading strategy is ${total_profit_loss:,.2f}\")\n",
    "\n",
    "# Calculate the return on investment (ROI)\n",
    "roi = (total_profit_loss / initial_capital) * 100\n",
    "\n",
    "# Print the ROI\n",
    "print(f\"The trading algorithm resulted in a return on investment of {roi:,.2f}%\")"
   ]
  },
  {
   "cell_type": "markdown",
   "metadata": {},
   "source": [
    "---\n",
    "## Machine Learning"
   ]
  },
  {
   "cell_type": "markdown",
   "metadata": {},
   "source": [
    "#### Extract features and target"
   ]
  },
  {
   "cell_type": "code",
   "execution_count": 41,
   "metadata": {},
   "outputs": [
    {
     "data": {
      "text/html": [
       "<div>\n",
       "<style scoped>\n",
       "    .dataframe tbody tr th:only-of-type {\n",
       "        vertical-align: middle;\n",
       "    }\n",
       "\n",
       "    .dataframe tbody tr th {\n",
       "        vertical-align: top;\n",
       "    }\n",
       "\n",
       "    .dataframe thead th {\n",
       "        text-align: right;\n",
       "    }\n",
       "</style>\n",
       "<table border=\"1\" class=\"dataframe\">\n",
       "  <thead>\n",
       "    <tr style=\"text-align: right;\">\n",
       "      <th></th>\n",
       "      <th>Open</th>\n",
       "      <th>High</th>\n",
       "      <th>Low</th>\n",
       "      <th>Close</th>\n",
       "      <th>Volume</th>\n",
       "    </tr>\n",
       "    <tr>\n",
       "      <th>Datetime</th>\n",
       "      <th></th>\n",
       "      <th></th>\n",
       "      <th></th>\n",
       "      <th></th>\n",
       "      <th></th>\n",
       "    </tr>\n",
       "  </thead>\n",
       "  <tbody>\n",
       "    <tr>\n",
       "      <th>2022-08-26 09:40:00-04:00</th>\n",
       "      <td>176.889999</td>\n",
       "      <td>177.649994</td>\n",
       "      <td>176.240005</td>\n",
       "      <td>176.289993</td>\n",
       "      <td>1095523</td>\n",
       "    </tr>\n",
       "    <tr>\n",
       "      <th>2022-08-26 09:45:00-04:00</th>\n",
       "      <td>176.294998</td>\n",
       "      <td>176.309998</td>\n",
       "      <td>175.119995</td>\n",
       "      <td>175.274994</td>\n",
       "      <td>1521984</td>\n",
       "    </tr>\n",
       "    <tr>\n",
       "      <th>2022-08-26 09:50:00-04:00</th>\n",
       "      <td>175.301605</td>\n",
       "      <td>176.270004</td>\n",
       "      <td>175.009995</td>\n",
       "      <td>176.070007</td>\n",
       "      <td>1362449</td>\n",
       "    </tr>\n",
       "    <tr>\n",
       "      <th>2022-08-26 09:55:00-04:00</th>\n",
       "      <td>176.125000</td>\n",
       "      <td>177.379898</td>\n",
       "      <td>176.097305</td>\n",
       "      <td>176.994995</td>\n",
       "      <td>1235215</td>\n",
       "    </tr>\n",
       "    <tr>\n",
       "      <th>2022-08-26 10:00:00-04:00</th>\n",
       "      <td>176.949997</td>\n",
       "      <td>177.104996</td>\n",
       "      <td>174.100006</td>\n",
       "      <td>174.199997</td>\n",
       "      <td>1929217</td>\n",
       "    </tr>\n",
       "  </tbody>\n",
       "</table>\n",
       "</div>"
      ],
      "text/plain": [
       "                                 Open        High         Low       Close  \\\n",
       "Datetime                                                                    \n",
       "2022-08-26 09:40:00-04:00  176.889999  177.649994  176.240005  176.289993   \n",
       "2022-08-26 09:45:00-04:00  176.294998  176.309998  175.119995  175.274994   \n",
       "2022-08-26 09:50:00-04:00  175.301605  176.270004  175.009995  176.070007   \n",
       "2022-08-26 09:55:00-04:00  176.125000  177.379898  176.097305  176.994995   \n",
       "2022-08-26 10:00:00-04:00  176.949997  177.104996  174.100006  174.199997   \n",
       "\n",
       "                            Volume  \n",
       "Datetime                            \n",
       "2022-08-26 09:40:00-04:00  1095523  \n",
       "2022-08-26 09:45:00-04:00  1521984  \n",
       "2022-08-26 09:50:00-04:00  1362449  \n",
       "2022-08-26 09:55:00-04:00  1235215  \n",
       "2022-08-26 10:00:00-04:00  1929217  "
      ]
     },
     "execution_count": 41,
     "metadata": {},
     "output_type": "execute_result"
    }
   ],
   "source": [
    "# Extract features \n",
    "# X = df.drop(columns=['Entry/Exit', 'cost/proceeds', 'Position', 'Entry/Exit Position', 'Portfolio Holdings', 'Actual Returns', 'Signal'])\n",
    "X = df[['Open', 'High', 'Low', 'Close', 'Volume']]\n",
    "X.head()"
   ]
  },
  {
   "cell_type": "code",
   "execution_count": 42,
   "metadata": {},
   "outputs": [
    {
     "data": {
      "text/plain": [
       "0.0    1193\n",
       "1.0    1146\n",
       "Name: Signal, dtype: int64"
      ]
     },
     "execution_count": 42,
     "metadata": {},
     "output_type": "execute_result"
    }
   ],
   "source": [
    "# Extract target\n",
    "y = df['Signal']\n",
    "\n",
    "y.value_counts()"
   ]
  },
  {
   "cell_type": "markdown",
   "metadata": {},
   "source": [
    "#### Split train - test data"
   ]
  },
  {
   "cell_type": "code",
   "execution_count": 43,
   "metadata": {},
   "outputs": [
    {
     "name": "stdout",
     "output_type": "stream",
     "text": [
      "2022-08-26 09:40:00-04:00\n",
      "2022-09-20 09:40:00-04:00\n"
     ]
    }
   ],
   "source": [
    "training_begin = X.index.min()\n",
    "training_end = X.index.min() + DateOffset(days=25)\n",
    "print(training_begin)\n",
    "print(training_end) "
   ]
  },
  {
   "cell_type": "code",
   "execution_count": 44,
   "metadata": {},
   "outputs": [],
   "source": [
    "X_train = X.loc[training_begin:training_end]\n",
    "y_train = y.loc[training_begin:training_end]\n",
    "\n",
    "X_test = X.loc[training_end:]\n",
    "y_test = y.loc[training_end:]"
   ]
  },
  {
   "cell_type": "code",
   "execution_count": 45,
   "metadata": {},
   "outputs": [
    {
     "data": {
      "text/html": [
       "<div>\n",
       "<style scoped>\n",
       "    .dataframe tbody tr th:only-of-type {\n",
       "        vertical-align: middle;\n",
       "    }\n",
       "\n",
       "    .dataframe tbody tr th {\n",
       "        vertical-align: top;\n",
       "    }\n",
       "\n",
       "    .dataframe thead th {\n",
       "        text-align: right;\n",
       "    }\n",
       "</style>\n",
       "<table border=\"1\" class=\"dataframe\">\n",
       "  <thead>\n",
       "    <tr style=\"text-align: right;\">\n",
       "      <th></th>\n",
       "      <th>Open</th>\n",
       "      <th>High</th>\n",
       "      <th>Low</th>\n",
       "      <th>Close</th>\n",
       "      <th>Volume</th>\n",
       "    </tr>\n",
       "    <tr>\n",
       "      <th>Datetime</th>\n",
       "      <th></th>\n",
       "      <th></th>\n",
       "      <th></th>\n",
       "      <th></th>\n",
       "      <th></th>\n",
       "    </tr>\n",
       "  </thead>\n",
       "  <tbody>\n",
       "    <tr>\n",
       "      <th>2022-08-26 09:40:00-04:00</th>\n",
       "      <td>176.889999</td>\n",
       "      <td>177.649994</td>\n",
       "      <td>176.240005</td>\n",
       "      <td>176.289993</td>\n",
       "      <td>1095523</td>\n",
       "    </tr>\n",
       "  </tbody>\n",
       "</table>\n",
       "</div>"
      ],
      "text/plain": [
       "                                 Open        High         Low       Close  \\\n",
       "Datetime                                                                    \n",
       "2022-08-26 09:40:00-04:00  176.889999  177.649994  176.240005  176.289993   \n",
       "\n",
       "                            Volume  \n",
       "Datetime                            \n",
       "2022-08-26 09:40:00-04:00  1095523  "
      ]
     },
     "execution_count": 45,
     "metadata": {},
     "output_type": "execute_result"
    }
   ],
   "source": [
    "X_train.head(1)"
   ]
  },
  {
   "cell_type": "code",
   "execution_count": 46,
   "metadata": {},
   "outputs": [
    {
     "name": "stdout",
     "output_type": "stream",
     "text": [
      "(1249, 5) (1249,)\n",
      "(1091, 5) (1091,)\n"
     ]
    }
   ],
   "source": [
    "# Scale the features data\n",
    "\n",
    "scaler = StandardScaler()\n",
    "\n",
    "X_scaler = scaler.fit(X_train)\n",
    "\n",
    "X_train_scaled = X_scaler.transform(X_train)\n",
    "X_test_scaled = X_scaler.transform(X_test)\n",
    "\n",
    "print(X_train.shape, y_train.shape)\n",
    "print(X_test.shape, y_test.shape)\n"
   ]
  },
  {
   "cell_type": "code",
   "execution_count": 47,
   "metadata": {},
   "outputs": [],
   "source": [
    "# Save 'trained' scaler\n",
    "with open(filepath_scaler, 'wb') as f: \n",
    "    joblib.dump(X_scaler, f)"
   ]
  },
  {
   "cell_type": "markdown",
   "metadata": {},
   "source": [
    "#### Train machine learning model using XGBoost"
   ]
  },
  {
   "cell_type": "code",
   "execution_count": 48,
   "metadata": {},
   "outputs": [],
   "source": [
    "# Instantiate model using XGBClassifier\n",
    "model = xgb.XGBClassifier()\n",
    "\n",
    "# Fit/train the model\n",
    "model = model.fit(X_train_scaled, y_train)\n",
    "\n",
    "# Use the trained model to predict trading signals\n",
    "training_signal_predictions = model.predict(X_train_scaled)"
   ]
  },
  {
   "cell_type": "code",
   "execution_count": 49,
   "metadata": {},
   "outputs": [
    {
     "name": "stdout",
     "output_type": "stream",
     "text": [
      "              precision    recall  f1-score   support\n",
      "\n",
      "         0.0       1.00      1.00      1.00       646\n",
      "         1.0       1.00      1.00      1.00       603\n",
      "\n",
      "    accuracy                           1.00      1249\n",
      "   macro avg       1.00      1.00      1.00      1249\n",
      "weighted avg       1.00      1.00      1.00      1249\n",
      "\n"
     ]
    }
   ],
   "source": [
    "# Print classification report on training dataset\n",
    "training_report = classification_report(y_train, training_signal_predictions)\n",
    "print(training_report)"
   ]
  },
  {
   "cell_type": "code",
   "execution_count": 50,
   "metadata": {},
   "outputs": [
    {
     "name": "stdout",
     "output_type": "stream",
     "text": [
      "              precision    recall  f1-score   support\n",
      "\n",
      "         0.0       0.58      0.93      0.72       548\n",
      "         1.0       0.82      0.34      0.48       543\n",
      "\n",
      "    accuracy                           0.63      1091\n",
      "   macro avg       0.70      0.63      0.60      1091\n",
      "weighted avg       0.70      0.63      0.60      1091\n",
      "\n"
     ]
    }
   ],
   "source": [
    "# Use the trained model to predict the trading signals for the testing data.\n",
    "testing_signal_predictions = model.predict(X_test_scaled)\n",
    "\n",
    "# Evaluate the model's ability to predict the trading signal for the testing data using a classification report\n",
    "testing_report = classification_report(y_test, testing_signal_predictions)\n",
    "\n",
    "print(testing_report)\n"
   ]
  },
  {
   "cell_type": "code",
   "execution_count": 51,
   "metadata": {},
   "outputs": [
    {
     "data": {
      "text/html": [
       "<div>\n",
       "<style scoped>\n",
       "    .dataframe tbody tr th:only-of-type {\n",
       "        vertical-align: middle;\n",
       "    }\n",
       "\n",
       "    .dataframe tbody tr th {\n",
       "        vertical-align: top;\n",
       "    }\n",
       "\n",
       "    .dataframe thead th {\n",
       "        text-align: right;\n",
       "    }\n",
       "</style>\n",
       "<table border=\"1\" class=\"dataframe\">\n",
       "  <thead>\n",
       "    <tr style=\"text-align: right;\">\n",
       "      <th></th>\n",
       "      <th>Predicted Signal</th>\n",
       "      <th>Close</th>\n",
       "      <th>Actual Returns</th>\n",
       "      <th>ML Returns</th>\n",
       "    </tr>\n",
       "    <tr>\n",
       "      <th>Datetime</th>\n",
       "      <th></th>\n",
       "      <th></th>\n",
       "      <th></th>\n",
       "      <th></th>\n",
       "    </tr>\n",
       "  </thead>\n",
       "  <tbody>\n",
       "    <tr>\n",
       "      <th>2022-10-07 15:40:00-04:00</th>\n",
       "      <td>0</td>\n",
       "      <td>120.750000</td>\n",
       "      <td>-0.000166</td>\n",
       "      <td>-0.000000</td>\n",
       "    </tr>\n",
       "    <tr>\n",
       "      <th>2022-10-07 15:45:00-04:00</th>\n",
       "      <td>0</td>\n",
       "      <td>120.544998</td>\n",
       "      <td>-0.001698</td>\n",
       "      <td>-0.000000</td>\n",
       "    </tr>\n",
       "    <tr>\n",
       "      <th>2022-10-07 15:50:00-04:00</th>\n",
       "      <td>0</td>\n",
       "      <td>120.465698</td>\n",
       "      <td>-0.000658</td>\n",
       "      <td>-0.000000</td>\n",
       "    </tr>\n",
       "    <tr>\n",
       "      <th>2022-10-07 15:55:00-04:00</th>\n",
       "      <td>1</td>\n",
       "      <td>120.779999</td>\n",
       "      <td>0.002609</td>\n",
       "      <td>0.002609</td>\n",
       "    </tr>\n",
       "    <tr>\n",
       "      <th>2022-10-07 16:00:00-04:00</th>\n",
       "      <td>0</td>\n",
       "      <td>120.760002</td>\n",
       "      <td>-0.000166</td>\n",
       "      <td>-0.000000</td>\n",
       "    </tr>\n",
       "  </tbody>\n",
       "</table>\n",
       "</div>"
      ],
      "text/plain": [
       "                           Predicted Signal       Close  Actual Returns  \\\n",
       "Datetime                                                                  \n",
       "2022-10-07 15:40:00-04:00                 0  120.750000       -0.000166   \n",
       "2022-10-07 15:45:00-04:00                 0  120.544998       -0.001698   \n",
       "2022-10-07 15:50:00-04:00                 0  120.465698       -0.000658   \n",
       "2022-10-07 15:55:00-04:00                 1  120.779999        0.002609   \n",
       "2022-10-07 16:00:00-04:00                 0  120.760002       -0.000166   \n",
       "\n",
       "                           ML Returns  \n",
       "Datetime                               \n",
       "2022-10-07 15:40:00-04:00   -0.000000  \n",
       "2022-10-07 15:45:00-04:00   -0.000000  \n",
       "2022-10-07 15:50:00-04:00   -0.000000  \n",
       "2022-10-07 15:55:00-04:00    0.002609  \n",
       "2022-10-07 16:00:00-04:00   -0.000000  "
      ]
     },
     "execution_count": 51,
     "metadata": {},
     "output_type": "execute_result"
    }
   ],
   "source": [
    "# Create a new empty predictions DataFrame using code provided below.\n",
    "predictions_df = pd.DataFrame(index=X_test.index)\n",
    "predictions_df['Predicted Signal'] = testing_signal_predictions\n",
    "\n",
    "# Add in actual returns and calculate trading returns\n",
    "predictions_df['Close'] = df['Close']\n",
    "predictions_df['Actual Returns'] = df['Actual Returns']\n",
    "predictions_df['ML Returns'] = predictions_df['Actual Returns'] * predictions_df['Predicted Signal']\n",
    "predictions_df.to_csv(ticker + ' - predicted_returns.csv')\n",
    "predictions_df.tail(5)\n"
   ]
  },
  {
   "cell_type": "code",
   "execution_count": 52,
   "metadata": {},
   "outputs": [
    {
     "data": {
      "text/plain": [
       "<AxesSubplot:xlabel='Datetime'>"
      ]
     },
     "execution_count": 52,
     "metadata": {},
     "output_type": "execute_result"
    },
    {
     "data": {
      "image/png": "[encoded data removed]",
      "text/plain": [
       "<Figure size 640x480 with 1 Axes>"
      ]
     },
     "metadata": {},
     "output_type": "display_data"
    }
   ],
   "source": [
    "# Calculate and plot the cumulative returns for the `Actual Returns` and the `Algo Returns`\n",
    "(1 + predictions_df[['Actual Returns', 'ML Returns']]).cumprod().plot()"
   ]
  },
  {
   "cell_type": "code",
   "execution_count": 53,
   "metadata": {},
   "outputs": [
    {
     "data": {
      "image/png": "[encoded data removed]",
      "text/plain": [
       "<Figure size 640x480 with 1 Axes>"
      ]
     },
     "metadata": {},
     "output_type": "display_data"
    }
   ],
   "source": [
    "# Show ranking of importance score of features for this dataset\n",
    "imp_score = pd.DataFrame(model.feature_importances_, columns=['Importance Score'])\n",
    "features = pd.DataFrame(X.columns, columns=['Features'])\n",
    "feature_imp = pd.concat([features,imp_score], axis=1)\n",
    "feature_imp = feature_imp.sort_values(by='Importance Score', ascending=False)\n",
    "sns.barplot(x=feature_imp['Importance Score'], y=feature_imp['Features'])\n",
    "plt.show()"
   ]
  },
  {
   "cell_type": "markdown",
   "metadata": {},
   "source": [
    "---\n",
    "## Machine Learning - Backtest test dataset using predicted signal"
   ]
  },
  {
   "cell_type": "markdown",
   "metadata": {},
   "source": [
    "#### Execute trades (buy, hold, sell) and calculate P&L"
   ]
  },
  {
   "cell_type": "code",
   "execution_count": 54,
   "metadata": {},
   "outputs": [
    {
     "data": {
      "text/html": [
       "<div>\n",
       "<style scoped>\n",
       "    .dataframe tbody tr th:only-of-type {\n",
       "        vertical-align: middle;\n",
       "    }\n",
       "\n",
       "    .dataframe tbody tr th {\n",
       "        vertical-align: top;\n",
       "    }\n",
       "\n",
       "    .dataframe thead th {\n",
       "        text-align: right;\n",
       "    }\n",
       "</style>\n",
       "<table border=\"1\" class=\"dataframe\">\n",
       "  <thead>\n",
       "    <tr style=\"text-align: right;\">\n",
       "      <th></th>\n",
       "      <th>Predicted Signal</th>\n",
       "      <th>Close</th>\n",
       "      <th>Actual Returns</th>\n",
       "      <th>ML Returns</th>\n",
       "      <th>Entry/Exit</th>\n",
       "    </tr>\n",
       "    <tr>\n",
       "      <th>Datetime</th>\n",
       "      <th></th>\n",
       "      <th></th>\n",
       "      <th></th>\n",
       "      <th></th>\n",
       "      <th></th>\n",
       "    </tr>\n",
       "  </thead>\n",
       "  <tbody>\n",
       "    <tr>\n",
       "      <th>2022-09-20 09:40:00-04:00</th>\n",
       "      <td>0</td>\n",
       "      <td>131.960007</td>\n",
       "      <td>-0.004977</td>\n",
       "      <td>-0.000000</td>\n",
       "      <td>NaN</td>\n",
       "    </tr>\n",
       "    <tr>\n",
       "      <th>2022-09-20 09:45:00-04:00</th>\n",
       "      <td>1</td>\n",
       "      <td>132.100006</td>\n",
       "      <td>0.001061</td>\n",
       "      <td>0.001061</td>\n",
       "      <td>1.0</td>\n",
       "    </tr>\n",
       "    <tr>\n",
       "      <th>2022-09-20 09:50:00-04:00</th>\n",
       "      <td>1</td>\n",
       "      <td>132.489899</td>\n",
       "      <td>0.002951</td>\n",
       "      <td>0.002951</td>\n",
       "      <td>0.0</td>\n",
       "    </tr>\n",
       "    <tr>\n",
       "      <th>2022-09-20 09:55:00-04:00</th>\n",
       "      <td>0</td>\n",
       "      <td>132.509995</td>\n",
       "      <td>0.000152</td>\n",
       "      <td>0.000000</td>\n",
       "      <td>-1.0</td>\n",
       "    </tr>\n",
       "    <tr>\n",
       "      <th>2022-09-20 10:00:00-04:00</th>\n",
       "      <td>1</td>\n",
       "      <td>132.910004</td>\n",
       "      <td>0.003019</td>\n",
       "      <td>0.003019</td>\n",
       "      <td>1.0</td>\n",
       "    </tr>\n",
       "  </tbody>\n",
       "</table>\n",
       "</div>"
      ],
      "text/plain": [
       "                           Predicted Signal       Close  Actual Returns  \\\n",
       "Datetime                                                                  \n",
       "2022-09-20 09:40:00-04:00                 0  131.960007       -0.004977   \n",
       "2022-09-20 09:45:00-04:00                 1  132.100006        0.001061   \n",
       "2022-09-20 09:50:00-04:00                 1  132.489899        0.002951   \n",
       "2022-09-20 09:55:00-04:00                 0  132.509995        0.000152   \n",
       "2022-09-20 10:00:00-04:00                 1  132.910004        0.003019   \n",
       "\n",
       "                           ML Returns  Entry/Exit  \n",
       "Datetime                                           \n",
       "2022-09-20 09:40:00-04:00   -0.000000         NaN  \n",
       "2022-09-20 09:45:00-04:00    0.001061         1.0  \n",
       "2022-09-20 09:50:00-04:00    0.002951         0.0  \n",
       "2022-09-20 09:55:00-04:00    0.000000        -1.0  \n",
       "2022-09-20 10:00:00-04:00    0.003019         1.0  "
      ]
     },
     "execution_count": 54,
     "metadata": {},
     "output_type": "execute_result"
    }
   ],
   "source": [
    "# Calculate the points in time when the Signal value changes\n",
    "# Identify trade entry (1) and exit (-1) points\n",
    "predictions_df['Entry/Exit'] = predictions_df['Predicted Signal'].diff()\n",
    "predictions_df.head()\n"
   ]
  },
  {
   "cell_type": "code",
   "execution_count": 55,
   "metadata": {},
   "outputs": [
    {
     "data": {
      "text/plain": [
       " 0.0    892\n",
       " 1.0     99\n",
       "-1.0     99\n",
       "Name: Entry/Exit, dtype: int64"
      ]
     },
     "execution_count": 55,
     "metadata": {},
     "output_type": "execute_result"
    }
   ],
   "source": [
    "predictions_df['Entry/Exit'].value_counts()"
   ]
  },
  {
   "cell_type": "code",
   "execution_count": 56,
   "metadata": {},
   "outputs": [
    {
     "data": {
      "text/plain": [
       "(1091, 5)"
      ]
     },
     "execution_count": 56,
     "metadata": {},
     "output_type": "execute_result"
    }
   ],
   "source": [
    "predictions_df.shape"
   ]
  },
  {
   "cell_type": "code",
   "execution_count": 57,
   "metadata": {},
   "outputs": [
    {
     "name": "stdout",
     "output_type": "stream",
     "text": [
      "Accumulated shares = 0\n",
      "The initial investment made is $5,000.00\n",
      "The total profit/loss of the trading strategy is $75.60\n",
      "The trading algorithm resulted in a return on investment of 1.51%\n"
     ]
    }
   ],
   "source": [
    "# Call function to calculate P&L\n",
    "predictions_df, accumulated_shares = trade.gain_loss(predictions_df, share_size)\n",
    "\n",
    "# Accumulated shares should show zero since all remaining shares have been sold at 'last' day of dataset\n",
    "print(\"Accumulated shares =\", accumulated_shares)\n",
    "print (f\"The initial investment made is ${initial_capital:,.2f}\" )\n",
    "\n",
    "# Calculate the total profit/loss for 100 share size orders\n",
    "total_profit_loss = predictions_df[\"cost/proceeds\"].sum()\n",
    "\n",
    "# Print the profit/loss metrics\n",
    "print(f\"The total profit/loss of the trading strategy is ${total_profit_loss:,.2f}\")\n",
    "\n",
    "# Calculate the return on investment (ROI)\n",
    "roi = (total_profit_loss / initial_capital) * 100\n",
    "\n",
    "# Print the ROI\n",
    "print(f\"The trading algorithm resulted in a return on investment of {roi:,.2f}%\")"
   ]
  },
  {
   "cell_type": "code",
   "execution_count": 58,
   "metadata": {},
   "outputs": [],
   "source": [
    "# Save trained model\n",
    "with open(filepath_model, 'wb') as f: \n",
    "    # pickle.dump(model, f)\n",
    "    joblib.dump(model, f)"
   ]
  },
  {
   "cell_type": "code",
   "execution_count": null,
   "metadata": {},
   "outputs": [],
   "source": []
  }
 ],
 "metadata": {
  "kernelspec": {
   "display_name": "Python 3.10.6 ('dev')",
   "language": "python",
   "name": "python3"
  },
  "language_info": {
   "codemirror_mode": {
    "name": "ipython",
    "version": 3
   },
   "file_extension": ".py",
   "mimetype": "text/x-python",
   "name": "python",
   "nbconvert_exporter": "python",
   "pygments_lexer": "ipython3",
   "version": "3.10.6"
  },
  "orig_nbformat": 4,
  "vscode": {
   "interpreter": {
    "hash": "8b8a2c8e2274cbc79e4c50374baba45973ed0dbe0d8e89d1aa57ccad1cf57a68"
   }
  }
 },
 "nbformat": 4,
 "nbformat_minor": 2
}
