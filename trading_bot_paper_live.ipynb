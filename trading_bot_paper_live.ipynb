{
 "cells": [
  {
   "cell_type": "code",
   "execution_count": 16,
   "metadata": {},
   "outputs": [],
   "source": [
    "# Imports\n",
    "import warnings\n",
    "warnings.filterwarnings('ignore')\n",
    "\n",
    "import os\n",
    "import json\n",
    "import pandas as pd\n",
    "from dotenv import load_dotenv\n",
    "import joblib\n",
    "import yfinance as yf\n",
    "from datetime import datetime\n",
    "from datetime import timedelta\n",
    "from pytz import timezone\n",
    "import pytz\n",
    "\n",
    "import logging\n",
    "from time import sleep\n",
    "\n",
    "import alpaca_trade_api as tradeapi\n"
   ]
  },
  {
   "cell_type": "markdown",
   "metadata": {},
   "source": [
    "### Change main variables here"
   ]
  },
  {
   "cell_type": "code",
   "execution_count": 17,
   "metadata": {},
   "outputs": [],
   "source": [
    "# Set ticker\n",
    "ticker = 'NVDA'\n",
    "\n",
    "# Set # shares\n",
    "share_size = 100"
   ]
  },
  {
   "cell_type": "markdown",
   "metadata": {},
   "source": [
    "### Set up Alpaca API"
   ]
  },
  {
   "cell_type": "code",
   "execution_count": 18,
   "metadata": {},
   "outputs": [
    {
     "data": {
      "text/plain": [
       "True"
      ]
     },
     "execution_count": 18,
     "metadata": {},
     "output_type": "execute_result"
    }
   ],
   "source": [
    "# load .env file. File must be in the same directory as this application\n",
    "load_dotenv()"
   ]
  },
  {
   "cell_type": "code",
   "execution_count": 19,
   "metadata": {},
   "outputs": [],
   "source": [
    "# Initialize Alpaca API\n",
    "API_KEY = os.getenv(\"ALPACA_API_KEY\")\n",
    "API_SECRET = os.getenv(\"ALPACA_SECRET_KEY\")\n",
    "ALPACA_API_BASE_URL = \"https://paper-api.alpaca.markets\"\n",
    "\n",
    "# Create a connection to the API \n",
    "api = tradeapi.REST(API_KEY, API_SECRET, ALPACA_API_BASE_URL, api_version=\"v2\")"
   ]
  },
  {
   "cell_type": "markdown",
   "metadata": {},
   "source": [
    "### Functions"
   ]
  },
  {
   "cell_type": "code",
   "execution_count": 20,
   "metadata": {},
   "outputs": [],
   "source": [
    "# calculates how many minutes are left until the market close\n",
    "# Check this so as not to execute any new orders just before the market closes\n",
    "# Intention is not to carry any trades overnight\n",
    "def minutes_to_market_close():\n",
    "    clock = api.get_clock()\n",
    "    closing = clock.next_close - clock.timestamp\n",
    "    return round(closing.total_seconds() / 60)"
   ]
  },
  {
   "cell_type": "code",
   "execution_count": 21,
   "metadata": {},
   "outputs": [],
   "source": [
    "# Wait for market to open\n",
    "def wait_for_market_open():\n",
    "\tclock = api.get_clock()\n",
    "\tif not clock.is_open:\n",
    "\t\ttime_to_open = (clock.next_open - clock.timestamp).total_seconds()\n",
    "\t\tsleep(round(time_to_open))"
   ]
  },
  {
   "cell_type": "code",
   "execution_count": 22,
   "metadata": {},
   "outputs": [],
   "source": [
    "# Send order. First check to see if there is 10 minuites left before market closes\n",
    "def send_order(ticker, direction, share_size):\n",
    "    if minutes_to_market_close() > 10:\n",
    "\n",
    "        api.submit_order(\n",
    "            symbol=ticker, \n",
    "            qty=share_size, \n",
    "            side=direction, \n",
    "            time_in_force=\"gtc\", \n",
    "            type=\"market\")\n",
    "        order_sent = True\n",
    "        done_for_the_day = False\n",
    "\n",
    "    else:\n",
    "        order_sent = False\n",
    "        done_for_the_day = True\n",
    "        \n",
    "    return order_sent, done_for_the_day"
   ]
  },
  {
   "cell_type": "code",
   "execution_count": 23,
   "metadata": {},
   "outputs": [],
   "source": [
    "def get_position(ticker):\n",
    "\n",
    "    try:\n",
    "        position = api.get_position(ticker)\n",
    "        position_qty = int(position.qty)\n",
    "        bought = True\n",
    "    except:\n",
    "        position_qty = 0\n",
    "        bought = False\n",
    "    return position_qty, bought"
   ]
  },
  {
   "cell_type": "code",
   "execution_count": 24,
   "metadata": {},
   "outputs": [],
   "source": [
    "# Cancel any open orders\n",
    "api.cancel_all_orders()"
   ]
  },
  {
   "cell_type": "markdown",
   "metadata": {},
   "source": [
    "### Initializations"
   ]
  },
  {
   "cell_type": "code",
   "execution_count": 25,
   "metadata": {},
   "outputs": [],
   "source": [
    "# Log error messsages\n",
    "logging.basicConfig(\n",
    "\tfilename='errlog.log',\n",
    "\tlevel=logging.WARNING,\n",
    "\tformat='%(asctime)s:%(levelname)s:%(message)s',\n",
    ")"
   ]
  },
  {
   "cell_type": "code",
   "execution_count": 26,
   "metadata": {},
   "outputs": [],
   "source": [
    "# Set flags\n",
    "next_trade = False\n",
    "order_submitted = False\n",
    "done_for_the_day = False"
   ]
  },
  {
   "cell_type": "code",
   "execution_count": 27,
   "metadata": {},
   "outputs": [],
   "source": [
    "# Check if stock has been bought before\n",
    "# If it has been bought before, set share_size to position quantity\n",
    "position_qty, bought = get_position(ticker)"
   ]
  },
  {
   "cell_type": "code",
   "execution_count": 28,
   "metadata": {},
   "outputs": [],
   "source": [
    "# Load 'trained' scaler\n",
    "filepath_scaler= ('./Resources/' + ticker + '_xgb_5mins_scaler.sav')\n",
    "with open(filepath_scaler, 'rb') as f: \n",
    "    X_scaler = joblib.load(f)"
   ]
  },
  {
   "cell_type": "code",
   "execution_count": 29,
   "metadata": {},
   "outputs": [],
   "source": [
    "# Load trained model\n",
    "filepath_model= ('./Resources/' + ticker + '_xgb_5mins_model.sav')\n",
    "with open(filepath_model, 'rb') as f: \n",
    "    model = joblib.load(f)"
   ]
  },
  {
   "cell_type": "markdown",
   "metadata": {},
   "source": [
    "### Main Loop"
   ]
  },
  {
   "cell_type": "code",
   "execution_count": 30,
   "metadata": {},
   "outputs": [
    {
     "ename": "KeyboardInterrupt",
     "evalue": "",
     "output_type": "error",
     "traceback": [
      "\u001b[0;31m---------------------------------------------------------------------------\u001b[0m",
      "\u001b[0;31mKeyboardInterrupt\u001b[0m                         Traceback (most recent call last)",
      "\u001b[0;32m/var/folders/pr/vkh0kj294g12sw16khb5r0hw0000gn/T/ipykernel_24850/1587435102.py\u001b[0m in \u001b[0;36m<cell line: 1>\u001b[0;34m()\u001b[0m\n\u001b[1;32m      3\u001b[0m     \u001b[0;32mtry\u001b[0m\u001b[0;34m:\u001b[0m\u001b[0;34m\u001b[0m\u001b[0;34m\u001b[0m\u001b[0m\n\u001b[1;32m      4\u001b[0m \u001b[0;34m\u001b[0m\u001b[0m\n\u001b[0;32m----> 5\u001b[0;31m         \u001b[0mwait_for_market_open\u001b[0m\u001b[0;34m(\u001b[0m\u001b[0;34m)\u001b[0m\u001b[0;34m\u001b[0m\u001b[0;34m\u001b[0m\u001b[0m\n\u001b[0m\u001b[1;32m      6\u001b[0m \u001b[0;34m\u001b[0m\u001b[0m\n\u001b[1;32m      7\u001b[0m         \u001b[0;31m# wait 6 mins for next data to be available\u001b[0m\u001b[0;34m\u001b[0m\u001b[0;34m\u001b[0m\u001b[0m\n",
      "\u001b[0;32m/var/folders/pr/vkh0kj294g12sw16khb5r0hw0000gn/T/ipykernel_24850/1888092114.py\u001b[0m in \u001b[0;36mwait_for_market_open\u001b[0;34m()\u001b[0m\n\u001b[1;32m      4\u001b[0m         \u001b[0;32mif\u001b[0m \u001b[0;32mnot\u001b[0m \u001b[0mclock\u001b[0m\u001b[0;34m.\u001b[0m\u001b[0mis_open\u001b[0m\u001b[0;34m:\u001b[0m\u001b[0;34m\u001b[0m\u001b[0;34m\u001b[0m\u001b[0m\n\u001b[1;32m      5\u001b[0m                 \u001b[0mtime_to_open\u001b[0m \u001b[0;34m=\u001b[0m \u001b[0;34m(\u001b[0m\u001b[0mclock\u001b[0m\u001b[0;34m.\u001b[0m\u001b[0mnext_open\u001b[0m \u001b[0;34m-\u001b[0m \u001b[0mclock\u001b[0m\u001b[0;34m.\u001b[0m\u001b[0mtimestamp\u001b[0m\u001b[0;34m)\u001b[0m\u001b[0;34m.\u001b[0m\u001b[0mtotal_seconds\u001b[0m\u001b[0;34m(\u001b[0m\u001b[0;34m)\u001b[0m\u001b[0;34m\u001b[0m\u001b[0;34m\u001b[0m\u001b[0m\n\u001b[0;32m----> 6\u001b[0;31m                 \u001b[0msleep\u001b[0m\u001b[0;34m(\u001b[0m\u001b[0mround\u001b[0m\u001b[0;34m(\u001b[0m\u001b[0mtime_to_open\u001b[0m\u001b[0;34m)\u001b[0m\u001b[0;34m)\u001b[0m\u001b[0;34m\u001b[0m\u001b[0;34m\u001b[0m\u001b[0m\n\u001b[0m",
      "\u001b[0;31mKeyboardInterrupt\u001b[0m: "
     ]
    }
   ],
   "source": [
    "while True:\n",
    "\n",
    "    try:\n",
    "\n",
    "        wait_for_market_open()\n",
    "\n",
    "        # wait 6 mins for next data to be available\n",
    "        clock = api.get_clock()\n",
    "        sleep(360 - clock.timestamp.second)\n",
    "\n",
    "        # Get live stock data, scale data, and generate trading signal using trained machine learning model\n",
    "        new_data_df = yf.download(ticker, period='1d', interval='5m')\n",
    "        new_data_df.drop(columns=['Adj Close'], axis=1, inplace=True)\n",
    "        df = new_data_df.take([-2])\n",
    "        print('df = ', df)\n",
    "        new_data_scaled = X_scaler.transform(df)\n",
    "        signal = model.predict(new_data_scaled)\n",
    "        signal = signal[0]\n",
    "\n",
    "        # Set limit amount\n",
    "        # limit_amount = df['Close'].values[0]\n",
    "        # limit_amount\n",
    "        \n",
    "        # Buy if stock has not been already bought\n",
    "        # Sell if stock has already been bought\n",
    "        # Do nothing if stock has been bought and signal is 1, or if stock is already sold and signal is 0\n",
    "        # Logic will not allow stock to be bought or sold multiple times\n",
    "        if signal==1 and bought==False:  \n",
    "            order_submitted, done_for_the_day = send_order(ticker, 'buy', share_size)\n",
    "            bought = True\n",
    "            next_trade = False   \n",
    "\n",
    "        elif signal==0 and bought==True:\n",
    "            order_submitted, done_for_the_day = send_order(ticker, 'sell', share_size)\n",
    "            bought = False\n",
    "            next_trade = False\n",
    "        else:\n",
    "            now = datetime_now()\n",
    "\n",
    "    except Exception as e:\n",
    "\t    logging.exception(e)\n"
   ]
  },
  {
   "cell_type": "code",
   "execution_count": null,
   "metadata": {},
   "outputs": [],
   "source": []
  },
  {
   "cell_type": "code",
   "execution_count": null,
   "metadata": {},
   "outputs": [],
   "source": []
  }
 ],
 "metadata": {
  "kernelspec": {
   "display_name": "Python 3.10.6 ('dev')",
   "language": "python",
   "name": "python3"
  },
  "language_info": {
   "codemirror_mode": {
    "name": "ipython",
    "version": 3
   },
   "file_extension": ".py",
   "mimetype": "text/x-python",
   "name": "python",
   "nbconvert_exporter": "python",
   "pygments_lexer": "ipython3",
   "version": "3.10.6"
  },
  "orig_nbformat": 4,
  "vscode": {
   "interpreter": {
    "hash": "8b8a2c8e2274cbc79e4c50374baba45973ed0dbe0d8e89d1aa57ccad1cf57a68"
   }
  }
 },
 "nbformat": 4,
 "nbformat_minor": 2
}
