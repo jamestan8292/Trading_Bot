{
 "cells": [
  {
   "cell_type": "code",
   "execution_count": 75,
   "metadata": {},
   "outputs": [
    {
     "data": {
      "text/plain": [
       "True"
      ]
     },
     "execution_count": 75,
     "metadata": {},
     "output_type": "execute_result"
    }
   ],
   "source": [
    "# Imports\n",
    "import warnings\n",
    "warnings.filterwarnings('ignore')\n",
    "\n",
    "import os\n",
    "import json\n",
    "import pandas as pd\n",
    "from dotenv import load_dotenv\n",
    "import joblib\n",
    "import yfinance as yf\n",
    "\n",
    "import logging\n",
    "from time import sleep\n",
    "\n",
    "import alpaca_trade_api as tradeapi\n",
    "\n",
    "# Load .env environment variables\n",
    "load_dotenv()\n"
   ]
  },
  {
   "cell_type": "code",
   "execution_count": 76,
   "metadata": {},
   "outputs": [],
   "source": [
    "ticker = 'NVDA'\n",
    "\n",
    "# Set # shares\n",
    "share_size = 10\n",
    "\n",
    "\n",
    "API_KEY = os.getenv(\"ALPACA_API_KEY\")\n",
    "API_SECRET = os.getenv(\"ALPACA_SECRET_KEY\")\n",
    "ALPACA_API_BASE_URL = \"https://paper-api.alpaca.markets\"\n",
    "\n",
    "# Create a connection to the API \n",
    "api = tradeapi.REST(API_KEY, API_SECRET, ALPACA_API_BASE_URL, api_version=\"v2\")"
   ]
  },
  {
   "cell_type": "code",
   "execution_count": 77,
   "metadata": {},
   "outputs": [],
   "source": [
    "# Log error messsages\n",
    "logging.basicConfig(\n",
    "\tfilename='errlog.log',\n",
    "\tlevel=logging.WARNING,\n",
    "\tformat='%(asctime)s:%(levelname)s:%(message)s',\n",
    ")"
   ]
  },
  {
   "cell_type": "code",
   "execution_count": 78,
   "metadata": {},
   "outputs": [],
   "source": [
    "trade_msg = []\n",
    "order_msg = []\n",
    "past_trades = []\n",
    "\n",
    "next_trade = False\n",
    "order_sent = False\n",
    "order_submitted = False\n",
    "active_trade = False\n",
    "done_for_the_day = False\n",
    "\n",
    "bought = False  # stock has not been bought"
   ]
  },
  {
   "cell_type": "code",
   "execution_count": 79,
   "metadata": {},
   "outputs": [],
   "source": [
    "# Load 'trained' scaler\n",
    "filepath_scaler= ('./Resources/' + ticker + '_xgb_scaler.sav')\n",
    "with open(filepath_scaler, 'rb') as f: \n",
    "    X_scaler = joblib.load(f)"
   ]
  },
  {
   "cell_type": "code",
   "execution_count": 80,
   "metadata": {},
   "outputs": [],
   "source": [
    "# Load trained model\n",
    "filepath_model= ('./Resources/' + ticker + '_xgb_model.sav')\n",
    "with open(filepath_model, 'rb') as f: \n",
    "    model = joblib.load(f)"
   ]
  },
  {
   "cell_type": "code",
   "execution_count": 81,
   "metadata": {},
   "outputs": [],
   "source": [
    "# Cancel any open orders\n",
    "api.cancel_all_orders()"
   ]
  },
  {
   "cell_type": "code",
   "execution_count": 82,
   "metadata": {},
   "outputs": [],
   "source": [
    "# Check if there is any open positions\n",
    "if len(api.list_positions()) == 0:\n",
    "\tnext_trade = True\n",
    "else:\n",
    "\tactive_trade = True"
   ]
  },
  {
   "cell_type": "code",
   "execution_count": 84,
   "metadata": {},
   "outputs": [],
   "source": [
    "# calculates how many minutes are left until the market close\n",
    "# Check this so as not to execute any new orders just before the market closes\n",
    "# Intention is not to carry any trades overnight\n",
    "def time_to_market_close():\n",
    "    clock = api.get_clock()\n",
    "    closing = clock.next_close - clock.timestamp\n",
    "    return round(closing.total_seconds() / 60)"
   ]
  },
  {
   "cell_type": "code",
   "execution_count": 85,
   "metadata": {},
   "outputs": [],
   "source": [
    "# Wait for market to open\n",
    "def wait_for_market_open():\n",
    "\tclock = api.get_clock()\n",
    "\tif not clock.is_open:\n",
    "\t\ttime_to_open = (clock.next_open - clock.timestamp).total_seconds()\n",
    "\t\tsleep(round(time_to_open))"
   ]
  },
  {
   "cell_type": "code",
   "execution_count": 86,
   "metadata": {},
   "outputs": [],
   "source": [
    "# Send order. First check to see if there is 20 minuites left before market closes\n",
    "def send_order(ticker, direction, share_size):\n",
    "    if time_to_market_close() > 120:\n",
    "\n",
    "        api.submit_order(\n",
    "            symbol=ticker, \n",
    "            qty=share_size, \n",
    "            side=direction, \n",
    "            time_in_force=\"gtc\", \n",
    "            type=\"market\")\n",
    "        order_sent = True\n",
    "        done_for_the_day = False\n",
    "\n",
    "    else:\n",
    "        order_sent = False\n",
    "        done_for_the_day = True\n",
    "        \n",
    "    return order_sent, done_for_the_day"
   ]
  },
  {
   "cell_type": "code",
   "execution_count": 87,
   "metadata": {},
   "outputs": [
    {
     "ename": "KeyboardInterrupt",
     "evalue": "",
     "output_type": "error",
     "traceback": [
      "\u001b[0;31m---------------------------------------------------------------------------\u001b[0m",
      "\u001b[0;31mKeyboardInterrupt\u001b[0m                         Traceback (most recent call last)",
      "\u001b[0;32m/var/folders/pr/vkh0kj294g12sw16khb5r0hw0000gn/T/ipykernel_87506/3911929366.py\u001b[0m in \u001b[0;36m<cell line: 2>\u001b[0;34m()\u001b[0m\n\u001b[1;32m      6\u001b[0m         \u001b[0;32mwhile\u001b[0m \u001b[0mnext_trade\u001b[0m\u001b[0;34m:\u001b[0m\u001b[0;34m\u001b[0m\u001b[0;34m\u001b[0m\u001b[0m\n\u001b[1;32m      7\u001b[0m \u001b[0;34m\u001b[0m\u001b[0m\n\u001b[0;32m----> 8\u001b[0;31m             \u001b[0mwait\u001b[0m \u001b[0;34m=\u001b[0m \u001b[0mwait_for_market_open\u001b[0m\u001b[0;34m(\u001b[0m\u001b[0;34m)\u001b[0m\u001b[0;34m\u001b[0m\u001b[0;34m\u001b[0m\u001b[0m\n\u001b[0m\u001b[1;32m      9\u001b[0m \u001b[0;34m\u001b[0m\u001b[0m\n\u001b[1;32m     10\u001b[0m             \u001b[0;31m# wait 7 mins for data to be available\u001b[0m\u001b[0;34m\u001b[0m\u001b[0;34m\u001b[0m\u001b[0m\n",
      "\u001b[0;32m/var/folders/pr/vkh0kj294g12sw16khb5r0hw0000gn/T/ipykernel_87506/1888092114.py\u001b[0m in \u001b[0;36mwait_for_market_open\u001b[0;34m()\u001b[0m\n\u001b[1;32m      4\u001b[0m         \u001b[0;32mif\u001b[0m \u001b[0;32mnot\u001b[0m \u001b[0mclock\u001b[0m\u001b[0;34m.\u001b[0m\u001b[0mis_open\u001b[0m\u001b[0;34m:\u001b[0m\u001b[0;34m\u001b[0m\u001b[0;34m\u001b[0m\u001b[0m\n\u001b[1;32m      5\u001b[0m                 \u001b[0mtime_to_open\u001b[0m \u001b[0;34m=\u001b[0m \u001b[0;34m(\u001b[0m\u001b[0mclock\u001b[0m\u001b[0;34m.\u001b[0m\u001b[0mnext_open\u001b[0m \u001b[0;34m-\u001b[0m \u001b[0mclock\u001b[0m\u001b[0;34m.\u001b[0m\u001b[0mtimestamp\u001b[0m\u001b[0;34m)\u001b[0m\u001b[0;34m.\u001b[0m\u001b[0mtotal_seconds\u001b[0m\u001b[0;34m(\u001b[0m\u001b[0;34m)\u001b[0m\u001b[0;34m\u001b[0m\u001b[0;34m\u001b[0m\u001b[0m\n\u001b[0;32m----> 6\u001b[0;31m                 \u001b[0msleep\u001b[0m\u001b[0;34m(\u001b[0m\u001b[0mround\u001b[0m\u001b[0;34m(\u001b[0m\u001b[0mtime_to_open\u001b[0m\u001b[0;34m)\u001b[0m\u001b[0;34m)\u001b[0m\u001b[0;34m\u001b[0m\u001b[0;34m\u001b[0m\u001b[0m\n\u001b[0m",
      "\u001b[0;31mKeyboardInterrupt\u001b[0m: "
     ]
    }
   ],
   "source": [
    "# main loop\n",
    "while True:\n",
    "\n",
    "    try:\n",
    "\n",
    "        while next_trade:\n",
    "\n",
    "            wait_for_market_open()\n",
    "\n",
    "            # wait 7 mins for data to be available\n",
    "            clock = api.get_clock()\n",
    "            sleep(420 - clock.timestamp.second)\n",
    "\n",
    "            # Get live stock data, scale data, and generate trading signal using trained machine learning model\n",
    "            new_data_df = yf.download(ticker, period='1d', interval='5m')\n",
    "            new_data_df.drop(columns=['Adj Close'], axis=1, inplace=True)\n",
    "            df = new_data_df.take([-2])\n",
    "            new_data_scaled = X_scaler.transform(df)\n",
    "            signal = model.predict(new_data_scaled)\n",
    "            signal = signal[0]\n",
    "\n",
    "            # Set limit amount\n",
    "            limit_amount = df['Close'].values[0]\n",
    "            limit_amount\n",
    "            \n",
    "            # Buy if stock has not been already bought\n",
    "            # Sell if stock has already been bought\n",
    "            # Do nothing if stock has been bought and signal is 1, or if stock is already sold and signal is 0\n",
    "            # Logic will not allow stock to be bought or sold multiple times\n",
    "            if signal==1 and bought==False:  \n",
    "                 order_sent, done_for_the_day = send_order(ticker, 'buy', share_size)\n",
    "                 bought = True\n",
    "                 next_trade = False\n",
    "\n",
    "            elif signal==0 and bought==True:\n",
    "                order_sent, done_for_the_day = send_order(ticker, 'sell', share_size)\n",
    "                bought = False\n",
    "                next_trade = False\n",
    "                \n",
    "\n",
    "            while order_sent:\n",
    "                sleep(1)\n",
    "                for item in trade_msg:\n",
    "                    if item.event == 'new':\n",
    "                        order_submitted = True\n",
    "                        order_sent = False\n",
    "\n",
    "            while order_submitted:\n",
    "                sleep(1)\n",
    "                for item in trade_msg:\n",
    "                    if item.order['filled_qty'] == share_size:\n",
    "                        order_submitted = False\n",
    "                        active_trade = True\n",
    "                        trade_msg = []\n",
    "\n",
    "            while active_trade:\n",
    "                for i in range(time_to_market_close() - 5):\n",
    "                    sleep(60)\n",
    "                    if len(api.list_positions()) == 0:\n",
    "                        active_trade = False\n",
    "                        searching_for_trade = True\n",
    "                        break\n",
    "                if active_trade:\n",
    "                    done_for_the_day = True\n",
    "                    active_trade = False\n",
    "\n",
    "            while done_for_the_day:\n",
    "                api.close_all_positions()\n",
    "                clock = api.get_clock()\n",
    "                next_market_open = clock.next_open - clock.timestamp\n",
    "                sleep(next_market_open.total_seconds())\n",
    "                next_trade = True\n",
    "\n",
    "    except Exception as e:\n",
    "\t    logging.exception(e)\n"
   ]
  },
  {
   "cell_type": "code",
   "execution_count": null,
   "metadata": {},
   "outputs": [],
   "source": []
  },
  {
   "cell_type": "code",
   "execution_count": null,
   "metadata": {},
   "outputs": [],
   "source": []
  },
  {
   "cell_type": "code",
   "execution_count": null,
   "metadata": {},
   "outputs": [],
   "source": [
    "## Set stop loss or take profit\n",
    "# api.submit_order(symbol='TSLA', \n",
    "# \t\tqty=1, \n",
    "# \t\tside='buy', \n",
    "# \t\ttime_in_force='gtc', \n",
    "# \t\ttype='limit', \n",
    "# \t\tlimit_price=400.00, \n",
    "# \t\tclient_order_id=001, \n",
    "# \t\torder_class='bracket', \n",
    "# \t\tstop_loss=dict(stop_price='360.00'), \n",
    "# \t\ttake_profit=dict(limit_price='440.00'))"
   ]
  },
  {
   "cell_type": "code",
   "execution_count": null,
   "metadata": {},
   "outputs": [],
   "source": [
    "# obtain account information\n",
    "# account = api.get_account()\n",
    "# print(account)"
   ]
  },
  {
   "cell_type": "code",
   "execution_count": null,
   "metadata": {},
   "outputs": [],
   "source": [
    "# print(api.get_clock())"
   ]
  },
  {
   "cell_type": "code",
   "execution_count": null,
   "metadata": {},
   "outputs": [],
   "source": [
    "# #check if market is open\n",
    "# clock = api.get_clock()\n",
    "\n",
    "# if clock.is_open:\n",
    "# \tpass\n",
    "# else:\n",
    "# \ttime_to_open = clock.next_open - clock.timestamp\n",
    "# \tsleep(time_to_open.total_seconds())"
   ]
  }
 ],
 "metadata": {
  "kernelspec": {
   "display_name": "dev",
   "language": "python",
   "name": "dev"
  },
  "language_info": {
   "codemirror_mode": {
    "name": "ipython",
    "version": 3
   },
   "file_extension": ".py",
   "mimetype": "text/x-python",
   "name": "python",
   "nbconvert_exporter": "python",
   "pygments_lexer": "ipython3",
   "version": "3.10.6"
  },
  "orig_nbformat": 4,
  "vscode": {
   "interpreter": {
    "hash": "ecef058b4c31941d40a4ed3dd0756dfacb9747093a03ac7cd5145a93d2679156"
   }
  }
 },
 "nbformat": 4,
 "nbformat_minor": 2
}
